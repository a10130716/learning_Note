{
 "cells": [
  {
   "cell_type": "code",
   "execution_count": 1,
   "metadata": {},
   "outputs": [],
   "source": [
    "import requests\n",
    "from bs4 import BeautifulSoup\n",
    "from tqdm import tqdm"
   ]
  },
  {
   "cell_type": "code",
   "execution_count": 2,
   "metadata": {},
   "outputs": [
    {
     "name": "stderr",
     "output_type": "stream",
     "text": [
      "  5%|▌         | 5/100 [00:14<04:43,  2.99s/it]"
     ]
    },
    {
     "name": "stdout",
     "output_type": "stream",
     "text": [
      "出錯喔\n"
     ]
    },
    {
     "name": "stderr",
     "output_type": "stream",
     "text": [
      " 11%|█         | 11/100 [00:30<04:13,  2.84s/it]"
     ]
    },
    {
     "name": "stdout",
     "output_type": "stream",
     "text": [
      "出錯喔\n"
     ]
    },
    {
     "name": "stderr",
     "output_type": "stream",
     "text": [
      " 13%|█▎        | 13/100 [00:35<03:51,  2.66s/it]"
     ]
    },
    {
     "name": "stdout",
     "output_type": "stream",
     "text": [
      "出錯喔\n"
     ]
    },
    {
     "name": "stderr",
     "output_type": "stream",
     "text": [
      " 22%|██▏       | 22/100 [01:04<05:40,  4.37s/it]"
     ]
    },
    {
     "name": "stdout",
     "output_type": "stream",
     "text": [
      "出錯喔\n"
     ]
    },
    {
     "name": "stderr",
     "output_type": "stream",
     "text": [
      " 32%|███▏      | 32/100 [01:36<03:19,  2.94s/it]"
     ]
    },
    {
     "name": "stdout",
     "output_type": "stream",
     "text": [
      "出錯喔\n"
     ]
    },
    {
     "name": "stderr",
     "output_type": "stream",
     "text": [
      " 42%|████▏     | 42/100 [01:57<02:02,  2.11s/it]"
     ]
    },
    {
     "name": "stdout",
     "output_type": "stream",
     "text": [
      "出錯喔\n",
      "出錯喔\n"
     ]
    },
    {
     "name": "stderr",
     "output_type": "stream",
     "text": [
      " 45%|████▌     | 45/100 [02:03<01:52,  2.05s/it]"
     ]
    },
    {
     "name": "stdout",
     "output_type": "stream",
     "text": [
      "出錯喔\n"
     ]
    },
    {
     "name": "stderr",
     "output_type": "stream",
     "text": [
      " 47%|████▋     | 47/100 [02:07<01:49,  2.07s/it]"
     ]
    },
    {
     "name": "stdout",
     "output_type": "stream",
     "text": [
      "出錯喔\n"
     ]
    },
    {
     "name": "stderr",
     "output_type": "stream",
     "text": [
      " 53%|█████▎    | 53/100 [02:20<01:40,  2.14s/it]"
     ]
    },
    {
     "name": "stdout",
     "output_type": "stream",
     "text": [
      "出錯喔\n"
     ]
    },
    {
     "name": "stderr",
     "output_type": "stream",
     "text": [
      " 65%|██████▌   | 65/100 [02:50<01:34,  2.70s/it]"
     ]
    },
    {
     "name": "stdout",
     "output_type": "stream",
     "text": [
      "出錯喔\n"
     ]
    },
    {
     "name": "stderr",
     "output_type": "stream",
     "text": [
      " 72%|███████▏  | 72/100 [03:12<01:52,  4.01s/it]"
     ]
    },
    {
     "name": "stdout",
     "output_type": "stream",
     "text": [
      "出錯喔\n"
     ]
    },
    {
     "name": "stderr",
     "output_type": "stream",
     "text": [
      " 88%|████████▊ | 88/100 [04:06<00:53,  4.43s/it]"
     ]
    },
    {
     "name": "stdout",
     "output_type": "stream",
     "text": [
      "出錯喔\n",
      "出錯喔\n"
     ]
    },
    {
     "name": "stderr",
     "output_type": "stream",
     "text": [
      " 93%|█████████▎| 93/100 [04:19<00:20,  2.97s/it]"
     ]
    },
    {
     "name": "stdout",
     "output_type": "stream",
     "text": [
      "出錯喔\n"
     ]
    },
    {
     "name": "stderr",
     "output_type": "stream",
     "text": [
      "100%|██████████| 100/100 [04:34<00:00,  2.08s/it]\n"
     ]
    }
   ],
   "source": [
    "author, title, time, content, content_author, comment = [], [], [], [], [], []\n",
    "for n in tqdm(range(9900,9800,-1)):\n",
    "    res = requests.get(\"https://www.ptt.cc/bbs/baseball/index\"+str(n)+\".html\")\n",
    "    soup = BeautifulSoup(res.text)\n",
    "    for i in soup.select(\".title\"):\n",
    "        try:    \n",
    "            if i('a') == []:\n",
    "                continue\n",
    "            else:\n",
    "                res2 = requests.get(\"https://www.ptt.cc\"+i('a')[0]['href'])\n",
    "                soup2 = BeautifulSoup(res2.text)\n",
    "                \n",
    "                author.append(soup2.select(\".article-meta-value\")[0].text)\n",
    "                title.append(soup2.select(\".article-meta-value\")[2].text)\n",
    "                time.append(soup2.select(\".article-meta-value\")[3].text)\n",
    "                content.append(soup2.select(\"#main-content\")[0].text.split(\"※\")[0].split(time[-1])[1])         \n",
    "                lst = []\n",
    "                for m in soup2.select(\".push .f3.push-content\")[0:]:\n",
    "                    lst.append(m.text)\n",
    "                comment.append(lst)\n",
    "                lst_ = []\n",
    "                for z in soup2.select(\".push .f3.hl.push-userid\")[0:]:\n",
    "                    lst_.append(z.text.strip())\n",
    "                content_author.append(lst_)\n",
    "        except IndexError:\n",
    "            print(\"出錯喔\")"
   ]
  },
  {
   "cell_type": "code",
   "execution_count": 3,
   "metadata": {},
   "outputs": [],
   "source": [
    "ptt_baseball = list(zip(title, time, author, content, content_author, comment))"
   ]
  },
  {
   "cell_type": "code",
   "execution_count": 4,
   "metadata": {},
   "outputs": [],
   "source": [
    "import pandas as pd\n",
    "df = pd.DataFrame(ptt_baseball, columns=['標題', '時間', '作者', '內文', '留言作者','留言'])"
   ]
  },
  {
   "cell_type": "code",
   "execution_count": 7,
   "metadata": {},
   "outputs": [
    {
     "data": {
      "text/html": [
       "<div>\n",
       "<style scoped>\n",
       "    .dataframe tbody tr th:only-of-type {\n",
       "        vertical-align: middle;\n",
       "    }\n",
       "\n",
       "    .dataframe tbody tr th {\n",
       "        vertical-align: top;\n",
       "    }\n",
       "\n",
       "    .dataframe thead th {\n",
       "        text-align: right;\n",
       "    }\n",
       "</style>\n",
       "<table border=\"1\" class=\"dataframe\">\n",
       "  <thead>\n",
       "    <tr style=\"text-align: right;\">\n",
       "      <th></th>\n",
       "      <th>標題</th>\n",
       "      <th>時間</th>\n",
       "      <th>作者</th>\n",
       "      <th>內文</th>\n",
       "      <th>留言作者</th>\n",
       "      <th>留言</th>\n",
       "    </tr>\n",
       "  </thead>\n",
       "  <tbody>\n",
       "    <tr>\n",
       "      <th>0</th>\n",
       "      <td>[討論] 今天跟2007亞錦對南韓很像</td>\n",
       "      <td>Fri Nov 15 18:20:24 2019</td>\n",
       "      <td>iversonman (我還有點餓)</td>\n",
       "      <td>\\n當時小雞林恩宇前面幾乎壓制對方打線\\n\\n結果到最後被扛出去\\n\\n整組害了了\\n\\n台...</td>\n",
       "      <td>[mazii, apolloapollo, justin521, dryadl35052, ...</td>\n",
       "      <td>[: 跟運氣有什麼關係, : 實力有差, : 實力有差 但這場會輸真的運氣不好, : 就沒辦...</td>\n",
       "    </tr>\n",
       "    <tr>\n",
       "      <th>1</th>\n",
       "      <td>[新聞] 複賽戰況激烈　倒數三場還沒有球隊被淘汰</td>\n",
       "      <td>Fri Nov 15 18:27:08 2019</td>\n",
       "      <td>Sky77777777 (阿天)</td>\n",
       "      <td>\\n複賽戰況激烈　倒數三場還沒有球隊被淘汰\\n\\n記者黃詩崴／綜合報導\\n\\n12強複賽截至...</td>\n",
       "      <td>[mrrex, unrealstars, acwinter, acwinter, Texas...</td>\n",
       "      <td>[: 以我們的實力可能贏不了澳洲, : 只要有三棒在可能沒辦法, : 笑死贏不了澳洲  熱身...</td>\n",
       "    </tr>\n",
       "    <tr>\n",
       "      <th>2</th>\n",
       "      <td>[新聞] 太晚換下吳昇峰 洪總這麼說</td>\n",
       "      <td>Fri Nov 15 18:39:09 2019</td>\n",
       "      <td>kenbo (我愛黃恩賜)</td>\n",
       "      <td>\\nhttps://www.chinatimes.com/amp/realtimenews/...</td>\n",
       "      <td>[windmai, sharrys, RanceTsai, dowattw2005, TAI...</td>\n",
       "      <td>[: 事後諸葛喔, : 調度沒問題吧, : 太晚換下小玉, : 破百不換還壘上有人真的豪賭，...</td>\n",
       "    </tr>\n",
       "    <tr>\n",
       "      <th>3</th>\n",
       "      <td>[討論] 結果已經比預期好了吧</td>\n",
       "      <td>Fri Nov 15 18:40:07 2019</td>\n",
       "      <td>ncdonalds123 (benben)</td>\n",
       "      <td>\\n這場比賽之前應該沒人覺得中華可以打贏美國吧？\\n\\n原本預期只有60分的考卷\\n\\n交出...</td>\n",
       "      <td>[oliverchamps, taiwanbeer88, hsmeal, sunny002,...</td>\n",
       "      <td>[: 1:8；0:2；7:0；2:3 輸就是輸, : 就一堆看不起自己、真的輸了又在那邊酸的...</td>\n",
       "    </tr>\n",
       "    <tr>\n",
       "      <th>4</th>\n",
       "      <td>[分享] 太空人的懲罰可能是\"體壇前所未見\"</td>\n",
       "      <td>Fri Nov 15 18:42:57 2019</td>\n",
       "      <td>youngluke (luke)</td>\n",
       "      <td>\\nhttps://bit.ly/379qxTe\\n\\nESPN's Jeff Passan...</td>\n",
       "      <td>[cena0605, cobras638, same60710, x5937300, jlb...</td>\n",
       "      <td>[: 撤回冠軍 全隊禁賽 教練除名, : 明年所有比賽改成客場出賽?  真的有這樣搞過?, ...</td>\n",
       "    </tr>\n",
       "  </tbody>\n",
       "</table>\n",
       "</div>"
      ],
      "text/plain": [
       "                         標題                        時間                     作者  \\\n",
       "0       [討論] 今天跟2007亞錦對南韓很像  Fri Nov 15 18:20:24 2019     iversonman (我還有點餓)   \n",
       "1  [新聞] 複賽戰況激烈　倒數三場還沒有球隊被淘汰  Fri Nov 15 18:27:08 2019       Sky77777777 (阿天)   \n",
       "2        [新聞] 太晚換下吳昇峰 洪總這麼說  Fri Nov 15 18:39:09 2019          kenbo (我愛黃恩賜)   \n",
       "3           [討論] 結果已經比預期好了吧  Fri Nov 15 18:40:07 2019  ncdonalds123 (benben)   \n",
       "4    [分享] 太空人的懲罰可能是\"體壇前所未見\"  Fri Nov 15 18:42:57 2019       youngluke (luke)   \n",
       "\n",
       "                                                  內文  \\\n",
       "0  \\n當時小雞林恩宇前面幾乎壓制對方打線\\n\\n結果到最後被扛出去\\n\\n整組害了了\\n\\n台...   \n",
       "1  \\n複賽戰況激烈　倒數三場還沒有球隊被淘汰\\n\\n記者黃詩崴／綜合報導\\n\\n12強複賽截至...   \n",
       "2  \\nhttps://www.chinatimes.com/amp/realtimenews/...   \n",
       "3  \\n這場比賽之前應該沒人覺得中華可以打贏美國吧？\\n\\n原本預期只有60分的考卷\\n\\n交出...   \n",
       "4  \\nhttps://bit.ly/379qxTe\\n\\nESPN's Jeff Passan...   \n",
       "\n",
       "                                                留言作者  \\\n",
       "0  [mazii, apolloapollo, justin521, dryadl35052, ...   \n",
       "1  [mrrex, unrealstars, acwinter, acwinter, Texas...   \n",
       "2  [windmai, sharrys, RanceTsai, dowattw2005, TAI...   \n",
       "3  [oliverchamps, taiwanbeer88, hsmeal, sunny002,...   \n",
       "4  [cena0605, cobras638, same60710, x5937300, jlb...   \n",
       "\n",
       "                                                  留言  \n",
       "0  [: 跟運氣有什麼關係, : 實力有差, : 實力有差 但這場會輸真的運氣不好, : 就沒辦...  \n",
       "1  [: 以我們的實力可能贏不了澳洲, : 只要有三棒在可能沒辦法, : 笑死贏不了澳洲  熱身...  \n",
       "2  [: 事後諸葛喔, : 調度沒問題吧, : 太晚換下小玉, : 破百不換還壘上有人真的豪賭，...  \n",
       "3  [: 1:8；0:2；7:0；2:3 輸就是輸, : 就一堆看不起自己、真的輸了又在那邊酸的...  \n",
       "4  [: 撤回冠軍 全隊禁賽 教練除名, : 明年所有比賽改成客場出賽?  真的有這樣搞過?, ...  "
      ]
     },
     "execution_count": 7,
     "metadata": {},
     "output_type": "execute_result"
    }
   ],
   "source": [
    "df.head()"
   ]
  },
  {
   "cell_type": "code",
   "execution_count": 6,
   "metadata": {},
   "outputs": [],
   "source": [
    "df.to_csv(\"baseball_scrawler.csv\" ,encoding='utf-8')"
   ]
  },
  {
   "cell_type": "code",
   "execution_count": null,
   "metadata": {},
   "outputs": [],
   "source": []
  }
 ],
 "metadata": {
  "kernelspec": {
   "display_name": "Python 3",
   "language": "python",
   "name": "python3"
  },
  "language_info": {
   "codemirror_mode": {
    "name": "ipython",
    "version": 3
   },
   "file_extension": ".py",
   "mimetype": "text/x-python",
   "name": "python",
   "nbconvert_exporter": "python",
   "pygments_lexer": "ipython3",
   "version": "3.7.0"
  }
 },
 "nbformat": 4,
 "nbformat_minor": 2
}
